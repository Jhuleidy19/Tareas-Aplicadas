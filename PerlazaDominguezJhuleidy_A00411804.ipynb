{
  "nbformat": 4,
  "nbformat_minor": 0,
  "metadata": {
    "colab": {
      "provenance": [],
      "authorship_tag": "ABX9TyMyV6OJYJFCrEXJE+svNwqy",
      "include_colab_link": true
    },
    "kernelspec": {
      "name": "python3",
      "display_name": "Python 3"
    },
    "language_info": {
      "name": "python"
    }
  },
  "cells": [
    {
      "cell_type": "markdown",
      "metadata": {
        "id": "view-in-github",
        "colab_type": "text"
      },
      "source": [
        "<a href=\"https://colab.research.google.com/github/Jhuleidy19/Tareas-Aplicadas/blob/main/PerlazaDominguezJhuleidy_A00411804.ipynb\" target=\"_parent\"><img src=\"https://colab.research.google.com/assets/colab-badge.svg\" alt=\"Open In Colab\"/></a>"
      ]
    },
    {
      "cell_type": "markdown",
      "source": [
        "# <font color=\"6e1f7b\"> **Autobiografia** </font>\n",
        "\n",
        "Mi nombre es Jhuleidy Perlaza Domínguez, tengo 18 años y nací en Cali, Valle del Cauca. Vivo con mis papás, mi hermana y mi gato. Estoy estudiando Ingeniería Bioquímica🧪 y disfruto aprender cosas nuevas. Me gusta practicar deportes. Escuchar música es algo que me relaja y me acompaña en mi día a día. También disfruto hacer manualidades, ya que me permite ser creativa. Me considero una persona dedicada y perseverante en lo que me propongo.En el futuro, me gustaría seguir creciendo personal y profesionalmente.\n",
        "\n",
        "<img src=\"https://images.ecestaticos.com/UUJVxz-Fpydz_RHZnEYnvruo59Q=/0x0:2121x1414/1200x1200/filters:fill(white):format(jpg)/f.elconfidencial.com%2Foriginal%2F2a1%2F585%2F565%2F2a15855650049ccff5659cc7787d37ee.jpg\" width=\"340\" height=\"300\" align=\"center\">\n",
        "\n",
        "# <font color=\"6e1f7b\"> **Canciones Favoritas** </font>🎵\n",
        "\n",
        "1. <font color=\"af5fbc\"> Murder on my mind </font>\n",
        ">*Ynw melly*\n",
        ">>*Jamell Maurice Demons*\n",
        "2. <font color=\"af5fbc\"> Simplesmente Ela </font>\n",
        ">*Mc Gabzin*\n",
        "3. <font color=\"af5fbc\"> Let Ha Go </font>\n",
        ">*SugarHillddo*\n",
        "4. <font color=\"af5fbc\"> Noticed </font>\n",
        ">*Lil Moncey*\n",
        ">>*Lathan Moses Echols*\n",
        "5. Nuts\n",
        ">*Peed, rainy*\n",
        ">>*Gustav Elijah Åhr*\n",
        "\n",
        "\n",
        "# <font color=\"6e1f7b\"> **Materias Favoritas** </font>📚\n",
        "\n",
        "|<font color=\"af5fbc\"> **Materia** </font> |<font color=\"af5fbc\"> **¿Porqué?** </font>|\n",
        "|--------|--------|\n",
        "|<font color=\"286a22\"> Biologia </font> |Es puente entre la curiosidad y el entendimiento del mundo vivo|\n",
        "|Diseño Grafico|combina creatividad y comunicación visual, y da libertad de innovar y crear algo único|\n",
        "|Qumica| Es la ciencia que conecta lo invisible con lo tangible|\n",
        "\n",
        "\n"
      ],
      "metadata": {
        "id": "04Xam_hl5iqE"
      }
    },
    {
      "cell_type": "code",
      "source": [
        "\n"
      ],
      "metadata": {
        "id": "5bvyT59ONtOe"
      },
      "execution_count": null,
      "outputs": []
    }
  ]
}