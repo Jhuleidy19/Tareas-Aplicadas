{
  "nbformat": 4,
  "nbformat_minor": 0,
  "metadata": {
    "colab": {
      "provenance": [],
      "authorship_tag": "ABX9TyPzk4TsepH5GdHQFe7ppR1h",
      "include_colab_link": true
    },
    "kernelspec": {
      "name": "python3",
      "display_name": "Python 3"
    },
    "language_info": {
      "name": "python"
    }
  },
  "cells": [
    {
      "cell_type": "markdown",
      "metadata": {
        "id": "view-in-github",
        "colab_type": "text"
      },
      "source": [
        "<a href=\"https://colab.research.google.com/github/Jhuleidy19/Tareas-Aplicadas/blob/main/PerlazaDominguezJhuleidy_A00411804.ipynb\" target=\"_parent\"><img src=\"https://colab.research.google.com/assets/colab-badge.svg\" alt=\"Open In Colab\"/></a>"
      ]
    },
    {
      "cell_type": "markdown",
      "source": [
        "# **Autobiografia**\n",
        "Mi nombre es Jhuleidy Perlaza Domínguez, tengo 18 años y nací en Cali, Valle del Cauca, vivo con mis papás, mi hermana y mi gato. Desde pequeña, siempre he sido curiosa y me ha gustado aprender cosas nuevas, lo que me llevó a interesarme por la ciencia y la investigación. Gracias a esa pasión, actualmente estudio Ingeniería Bioquímica, una carrera que me permite explorar soluciones innovadoras para mejorar la calidad de vida de las personas.\n"
      ],
      "metadata": {
        "id": "04Xam_hl5iqE"
      }
    }
  ]
}