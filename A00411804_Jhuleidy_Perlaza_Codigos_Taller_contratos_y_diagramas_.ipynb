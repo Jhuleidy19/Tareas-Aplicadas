{
  "nbformat": 4,
  "nbformat_minor": 0,
  "metadata": {
    "colab": {
      "provenance": [],
      "authorship_tag": "ABX9TyN75RMXQY7YmLXT1DsDYrRV",
      "include_colab_link": true
    },
    "kernelspec": {
      "name": "python3",
      "display_name": "Python 3"
    },
    "language_info": {
      "name": "python"
    }
  },
  "cells": [
    {
      "cell_type": "markdown",
      "metadata": {
        "id": "view-in-github",
        "colab_type": "text"
      },
      "source": [
        "<a href=\"https://colab.research.google.com/github/Jhuleidy19/Tareas-Aplicadas/blob/main/A00411804_Jhuleidy_Perlaza_Codigos_Taller_contratos_y_diagramas_.ipynb\" target=\"_parent\"><img src=\"https://colab.research.google.com/assets/colab-badge.svg\" alt=\"Open In Colab\"/></a>"
      ]
    },
    {
      "cell_type": "markdown",
      "source": [
        "**Ejercicio #1**"
      ],
      "metadata": {
        "id": "yzjiZ9D-XG52"
      }
    },
    {
      "cell_type": "code",
      "source": [
        "# Entrada: Cantidad de hielo\n",
        "kg_hielo = float(input(\"Ingresa la cantidad de hielo en kg: \"))\n",
        "\n",
        "# Proceso: Litros de agua = Kg de hielo * 0.92 litros\n",
        "litros_agua = kg_hielo * 0.92\n",
        "\n",
        "# Salida: Litros de agua que se obtuvieron al derretir una cantidad de hielo\n",
        "print(\"Obtendrás\", litros_agua, \"litros de agua potable.\")"
      ],
      "metadata": {
        "colab": {
          "base_uri": "https://localhost:8080/"
        },
        "id": "vs8dotuwXKZX",
        "outputId": "cec67d83-00b3-41f4-ffaa-2181518ee0e4"
      },
      "execution_count": null,
      "outputs": [
        {
          "output_type": "stream",
          "name": "stdout",
          "text": [
            "Ingresa la cantidad de hielo en kg: 10\n",
            "Obtendrás 9.200000000000001 litros de agua potable.\n"
          ]
        }
      ]
    },
    {
      "cell_type": "markdown",
      "source": [
        "**Ejercicio #2**"
      ],
      "metadata": {
        "id": "WxPYG9ubYQac"
      }
    },
    {
      "cell_type": "code",
      "source": [
        "# Entrada: Temperatura inicial\n",
        "k = float(input(\"introduzca el coeficiente de pérdida térmica por hora: \"))\n",
        "temperatura_inicial = float(input(\"Ingresa la temperatura actual dentro del refugio: \"))\n",
        "\n",
        "# Proceso: ΔTtotal =k×6 = T inicial + ΔTotal\n",
        "perdida_total = k * 6\n",
        "temperatura_final = temperatura_inicial - perdida_total\n",
        "\n",
        "# Salida: Teemperatura final\n",
        "print(\"La temperatura después de 6 horas será de :\", temperatura_final, \"°C\")"
      ],
      "metadata": {
        "colab": {
          "base_uri": "https://localhost:8080/"
        },
        "id": "qnUquRvcYWvi",
        "outputId": "bfd47a33-8424-4a61-c8e7-59211b335596"
      },
      "execution_count": null,
      "outputs": [
        {
          "output_type": "stream",
          "name": "stdout",
          "text": [
            "Ingrese el coeficiente de pérdida térmica por hora: 2\n",
            "Ingresa la temperatura actual dentro del refugio: 45\n",
            "La temperatura después de 6 horas será de : 33.0 °C\n"
          ]
        }
      ]
    },
    {
      "cell_type": "markdown",
      "source": [
        "**Ejercicio #3**"
      ],
      "metadata": {
        "id": "zduTIgPoZB6p"
      }
    },
    {
      "cell_type": "code",
      "source": [
        "# Entrada: Peso (kg) y altura (m)\n",
        "peso = float(input(\"introduzca su peso en kg: \"))\n",
        "altura = float(input(\"introduzca su altura en metros: \"))\n",
        "\n",
        "# Proceso: Calcular el IMC (IMC = peso / altura²)\n",
        "imc = peso / (altura ** 2)\n",
        "\n",
        "# Salida: Resultado del IMC\n",
        "print(\"Su IMC es: \", imc)"
      ],
      "metadata": {
        "colab": {
          "base_uri": "https://localhost:8080/"
        },
        "id": "UYj7BQKXZGxz",
        "outputId": "cb17b577-f59b-4f2e-fa2c-68dce19067c3"
      },
      "execution_count": null,
      "outputs": [
        {
          "output_type": "stream",
          "name": "stdout",
          "text": [
            "Ingrese su peso en kg: 70\n",
            "Ingrese su altura en metros: 1.65\n",
            "Su IMC es:  25.71166207529844\n"
          ]
        }
      ]
    },
    {
      "cell_type": "markdown",
      "source": [
        "**Ejercicio #4**"
      ],
      "metadata": {
        "id": "COwldEB9ZVyQ"
      }
    },
    {
      "cell_type": "code",
      "source": [
        "# Entrada: Cantidad de minutos\n",
        "minutos = int(input(\"Ingrese la cantidad de minutos: \"))\n",
        "\n",
        "# Proceso: Minutos x (1hora/60 min) =horas\n",
        "#segundos = minutos/segundo\n",
        "horas = minutos // 60\n",
        "segundos = (minutos % 60) * 60\n",
        "\n",
        "# Salida: Conversión de minutos a horas\n",
        "print(minutos, \"minutos son\", horas, \"horas y\", segundos, \"segundos.\")"
      ],
      "metadata": {
        "colab": {
          "base_uri": "https://localhost:8080/"
        },
        "id": "dQWTd9PcZY1l",
        "outputId": "85796c93-a48c-4ee1-d331-e2b393693630"
      },
      "execution_count": null,
      "outputs": [
        {
          "output_type": "stream",
          "name": "stdout",
          "text": [
            "Ingrese la cantidad de minutos: 23\n",
            "23 minutos son 0 horas y 1380 segundos.\n"
          ]
        }
      ]
    },
    {
      "cell_type": "markdown",
      "source": [
        "**Ejercicio #5**"
      ],
      "metadata": {
        "id": "aEjrs_n_Z72w"
      }
    },
    {
      "cell_type": "code",
      "source": [
        "# Entrada: Número a ingresar\n",
        "\n",
        "N = int(input(\"Ingrese un número N: \"))\n",
        "\n",
        "# Proceso: (N * (N + 1)) / 2\n",
        "\n",
        "suma = (N * (N + 1)) // 2\n",
        "\n",
        "# Salida: Sumatoria\n",
        "\n",
        "print(\"La suma de los primeros\", N, \"números naturales es:\", suma)"
      ],
      "metadata": {
        "colab": {
          "base_uri": "https://localhost:8080/"
        },
        "id": "aSWk4I6gaBLK",
        "outputId": "3f2e476e-a70d-4f32-f9d9-0a9805a9da67"
      },
      "execution_count": null,
      "outputs": [
        {
          "output_type": "stream",
          "name": "stdout",
          "text": [
            "Ingrese un número N: 7\n",
            "La suma de los primeros 7 números naturales es: 28\n"
          ]
        }
      ]
    },
    {
      "cell_type": "markdown",
      "source": [
        "**Ejercicio #6**"
      ],
      "metadata": {
        "id": "KFSGlLHsabug"
      }
    },
    {
      "cell_type": "code",
      "source": [
        "# Entrada: Notas y porcentajes\n",
        "nota1 = float(input(\"Ingrese la nota 1: \"))\n",
        "peso1 = float(input(\"Ingrese el porcentaje de la nota 1: \"))\n",
        "nota2 = float(input(\"Ingrese la nota 2: \"))\n",
        "peso2 = float(input(\"Ingrese el porcentaje de la nota 2: \"))\n",
        "nota3 = float(input(\"Ingrese la nota 3: \"))\n",
        "peso3 = float(input(\"Ingrese el porcentaje de la nota 3: \"))\n",
        "\n",
        "# Proceso: (nota1 * peso1 / 100) + (nota2 * peso2 / 100) + (nota3 * peso3 / 100)\n",
        "nota_final = (nota1 * peso1 / 100) + (nota2 * peso2 / 100) + (nota3 * peso3 / 100)\n",
        "\n",
        "# Salida: Nota final\n",
        "print(\"La nota final del curso es:\", nota_final)"
      ],
      "metadata": {
        "colab": {
          "base_uri": "https://localhost:8080/"
        },
        "id": "K-F_5JdBae6R",
        "outputId": "777021df-4447-4463-a1a5-f37a27040995"
      },
      "execution_count": null,
      "outputs": [
        {
          "output_type": "stream",
          "name": "stdout",
          "text": [
            "Ingrese la nota 1: 2\n",
            "Ingrese el porcentaje de la nota 1: 15\n",
            "Ingrese la nota 2: 5\n",
            "Ingrese el porcentaje de la nota 2: 15\n",
            "Ingrese la nota 3: 1\n",
            "Ingrese el porcentaje de la nota 3: 2\n",
            "La nota final del curso es: 1.07\n"
          ]
        }
      ]
    },
    {
      "cell_type": "markdown",
      "source": [
        "**Ejercicio #7**"
      ],
      "metadata": {
        "id": "zv5MEsRnazq_"
      }
    },
    {
      "cell_type": "code",
      "source": [
        "# Entrada: Total de la cuenta, numero de personas }, porcentaje de propina\n",
        "total_cuenta = float(input(\"introduzca el total de la cuenta: \" ))\n",
        "num_personas = int(input(\"introduzca el número de personas: \"))\n",
        "\n",
        "# Proceso:\n",
        "#propina = total * porcentaje/100\n",
        "#total final = Total + propina\n",
        "#monto por persona = total final / número de personas\n",
        "\n",
        "propina = total_cuenta * 0.10\n",
        "total_con_propina = total_cuenta + propina\n",
        "monto_por_persona = total_con_propina / num_personas\n",
        "\n",
        "# Salida: Mostrar el monto a pagar por persona\n",
        "print(\"Cada persona debe pagar:\", monto_por_persona, )"
      ],
      "metadata": {
        "colab": {
          "base_uri": "https://localhost:8080/"
        },
        "id": "eJpDnIG4a2VI",
        "outputId": "3706a1bf-1e09-4176-927d-ebfe3e7a2745"
      },
      "execution_count": null,
      "outputs": [
        {
          "output_type": "stream",
          "name": "stdout",
          "text": [
            "Ingre el total de la cuenta: 200.000\n",
            "Introduce el número de personas: 4\n",
            "Cada persona debe pagar: 55.0\n"
          ]
        }
      ]
    },
    {
      "cell_type": "markdown",
      "source": [
        "**Ejercicio #8**"
      ],
      "metadata": {
        "id": "Z5_J5-crbrDR"
      }
    },
    {
      "cell_type": "code",
      "source": [
        "# Entrada: Precio de los productos\n",
        "precio_base = float(input(\"introduzca el precio base de los productos: \"))\n",
        "\n",
        "# Proceso:\n",
        "#impuesto = precio * 0.16\n",
        "#total = precio + impuesto\n",
        "impuesto = precio_base * 0.16\n",
        "precio_total = precio_base + impuesto\n",
        "\n",
        "# Salida: Precio final de los impuestos\n",
        "print(\"El precio total con impuestos es: \", precio_total)"
      ],
      "metadata": {
        "colab": {
          "base_uri": "https://localhost:8080/"
        },
        "id": "u6rNPVq3buXa",
        "outputId": "675dc333-7c86-4a90-c799-0b6d3bc7b1f4"
      },
      "execution_count": null,
      "outputs": [
        {
          "output_type": "stream",
          "name": "stdout",
          "text": [
            "Ingrese el precio base de los productos: 352\n",
            "El precio total con impuestos es:  408.32\n"
          ]
        }
      ]
    },
    {
      "cell_type": "markdown",
      "source": [
        "**Ejercicio #9**"
      ],
      "metadata": {
        "id": "p5kdWWFqcFKX"
      }
    },
    {
      "cell_type": "code",
      "source": [
        "# Entrada: Precio de los productos\n",
        "precio_base = float(input(\"introduzca el precio base de los productos: \"))\n",
        "\n",
        "# Proceso:\n",
        "# Impuesto = precio * 0.16\n",
        "# Subtotal = precio + impuesto\n",
        "# Descuento si el subtotal es mayor a $200:\n",
        "# Descuento = subtotal * 0.10\n",
        "# Total final = subtotal - descuento\n",
        "\n",
        "impuesto = precio_base * 0.16\n",
        "subtotal = precio_base + impuesto\n",
        "descuento = subtotal * 0.10 if subtotal > 200 else 0\n",
        "total_final = subtotal - descuento\n",
        "\n",
        "# Salida: Precio final con impuestos y descuento (si aplica)\n",
        "if descuento > 0:\n",
        "    print(\"Se aplicó un descuento del 10%  : $ \", round(descuento, 2))\n",
        "    print(\"El precio final con impuestos y descuento es: $\", round(total_final, 2))\n",
        "else:\n",
        "\n",
        "    print(\"El precio final con impuestos es: $\", round(total_final, 2))"
      ],
      "metadata": {
        "colab": {
          "base_uri": "https://localhost:8080/"
        },
        "id": "EiGQo4FScIuL",
        "outputId": "681712d7-b033-4023-8415-c00b3709ead4"
      },
      "execution_count": null,
      "outputs": [
        {
          "output_type": "stream",
          "name": "stdout",
          "text": [
            "Ingrese el precio base de los productos: 234\n",
            "Se aplicó un descuento del 10%  : $  27.14\n",
            "El precio final con impuestos y descuento es: $ 244.3\n"
          ]
        }
      ]
    },
    {
      "cell_type": "markdown",
      "source": [
        "**Ejercicio #10**"
      ],
      "metadata": {
        "id": "aLYrjp6NdAgk"
      }
    },
    {
      "cell_type": "code",
      "source": [
        "# Entrada: Salario, número de horas extras, pago por hora extra\n",
        "salario = float(input(\"Introduzaca el salario base mensual: \"))\n",
        "pago_por_hora_extra = float(input(\"introduzca el pago por hora extra: \"))\n",
        "horas_extras = int(input(\"introduzca la cantidad de horas extras trabajadas: \"))\n",
        "\n",
        "# Proceso:\n",
        "# Pago extra = horas extras * pago por hora\n",
        "# Salario total = salario + pago extra\n",
        "salario_total = salario + (pago_por_hora_extra * horas_extras)\n",
        "\n",
        "# Salida: Salario total con horas extras\n",
        "print(\"El salario mensual con horas extras es:\", salario_total)"
      ],
      "metadata": {
        "colab": {
          "base_uri": "https://localhost:8080/"
        },
        "id": "G0Vi0naidDvM",
        "outputId": "139247f5-3f46-4ed4-93fb-8fd61482748e"
      },
      "execution_count": null,
      "outputs": [
        {
          "output_type": "stream",
          "name": "stdout",
          "text": [
            "Ingrese el salario base mensual: 2145\n",
            "Ingrese el pago por hora extra: 231\n",
            "Ingrese la cantidad de horas extras trabajadas: 19\n",
            "El salario mensual con horas extras es: 6534.0\n"
          ]
        }
      ]
    }
  ]
}